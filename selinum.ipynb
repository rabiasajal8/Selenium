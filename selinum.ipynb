{
  "nbformat": 4,
  "nbformat_minor": 0,
  "metadata": {
    "colab": {
      "provenance": []
    },
    "kernelspec": {
      "name": "python3",
      "display_name": "Python 3"
    },
    "language_info": {
      "name": "python"
    }
  },
  "cells": [
    {
      "cell_type": "code",
      "execution_count": null,
      "metadata": {
        "colab": {
          "base_uri": "https://localhost:8080/"
        },
        "id": "YZLRCP4aR0DY",
        "outputId": "24d2f6dd-9033-4013-96ad-f4fbde43f880"
      },
      "outputs": [
        {
          "output_type": "stream",
          "name": "stdout",
          "text": [
            "Collecting selenium\n",
            "  Downloading selenium-4.18.1-py3-none-any.whl (10.0 MB)\n",
            "\u001b[2K     \u001b[90m━━━━━━━━━━━━━━━━━━━━━━━━━━━━━━━━━━━━━━━━\u001b[0m \u001b[32m10.0/10.0 MB\u001b[0m \u001b[31m22.0 MB/s\u001b[0m eta \u001b[36m0:00:00\u001b[0m\n",
            "\u001b[?25hRequirement already satisfied: urllib3[socks]<3,>=1.26 in /usr/local/lib/python3.10/dist-packages (from selenium) (2.0.7)\n",
            "Collecting trio~=0.17 (from selenium)\n",
            "  Downloading trio-0.24.0-py3-none-any.whl (460 kB)\n",
            "\u001b[2K     \u001b[90m━━━━━━━━━━━━━━━━━━━━━━━━━━━━━━━━━━━━━━━━\u001b[0m \u001b[32m460.2/460.2 kB\u001b[0m \u001b[31m34.3 MB/s\u001b[0m eta \u001b[36m0:00:00\u001b[0m\n",
            "\u001b[?25hCollecting trio-websocket~=0.9 (from selenium)\n",
            "  Downloading trio_websocket-0.11.1-py3-none-any.whl (17 kB)\n",
            "Requirement already satisfied: certifi>=2021.10.8 in /usr/local/lib/python3.10/dist-packages (from selenium) (2024.2.2)\n",
            "Requirement already satisfied: typing_extensions>=4.9.0 in /usr/local/lib/python3.10/dist-packages (from selenium) (4.10.0)\n",
            "Requirement already satisfied: attrs>=20.1.0 in /usr/local/lib/python3.10/dist-packages (from trio~=0.17->selenium) (23.2.0)\n",
            "Requirement already satisfied: sortedcontainers in /usr/local/lib/python3.10/dist-packages (from trio~=0.17->selenium) (2.4.0)\n",
            "Requirement already satisfied: idna in /usr/local/lib/python3.10/dist-packages (from trio~=0.17->selenium) (3.6)\n",
            "Collecting outcome (from trio~=0.17->selenium)\n",
            "  Downloading outcome-1.3.0.post0-py2.py3-none-any.whl (10 kB)\n",
            "Requirement already satisfied: sniffio>=1.3.0 in /usr/local/lib/python3.10/dist-packages (from trio~=0.17->selenium) (1.3.1)\n",
            "Requirement already satisfied: exceptiongroup in /usr/local/lib/python3.10/dist-packages (from trio~=0.17->selenium) (1.2.0)\n",
            "Collecting wsproto>=0.14 (from trio-websocket~=0.9->selenium)\n",
            "  Downloading wsproto-1.2.0-py3-none-any.whl (24 kB)\n",
            "Requirement already satisfied: pysocks!=1.5.7,<2.0,>=1.5.6 in /usr/local/lib/python3.10/dist-packages (from urllib3[socks]<3,>=1.26->selenium) (1.7.1)\n",
            "Collecting h11<1,>=0.9.0 (from wsproto>=0.14->trio-websocket~=0.9->selenium)\n",
            "  Downloading h11-0.14.0-py3-none-any.whl (58 kB)\n",
            "\u001b[2K     \u001b[90m━━━━━━━━━━━━━━━━━━━━━━━━━━━━━━━━━━━━━━━━\u001b[0m \u001b[32m58.3/58.3 kB\u001b[0m \u001b[31m7.3 MB/s\u001b[0m eta \u001b[36m0:00:00\u001b[0m\n",
            "\u001b[?25hInstalling collected packages: outcome, h11, wsproto, trio, trio-websocket, selenium\n",
            "Successfully installed h11-0.14.0 outcome-1.3.0.post0 selenium-4.18.1 trio-0.24.0 trio-websocket-0.11.1 wsproto-1.2.0\n"
          ]
        }
      ],
      "source": [
        "pip install selenium"
      ]
    },
    {
      "cell_type": "markdown",
      "source": [
        "Part 1: Selenium [15 Marks]\n",
        "You are provided with the URL of a YouTube channel. Your task is to write Python code using\n",
        "Selenium to scrape to extract relevant information and gain insights from the collected data.\n",
        "URL: https://www.youtube.com/@UnfoldDataScience\n",
        "● Use Selenium to access the provided YouTube channel URL. Scrape the videos\n",
        "uploaded between Sep 10, 2019 and Sep 10, 2023.\n",
        "● Extract the following information for each video on the channel's page:\n",
        "⮚ Video Title\n",
        "⮚ Views Count\n",
        "⮚ Likes Count\n",
        "⮚ Upload Date\n",
        "⮚ Number of Comments\n",
        "● Store the extracted data in a structured format.\n",
        "\n",
        "● Create functions for the following tasks on the scraped data:\n",
        "⮚ Calculate the average views count per video for videos uploaded in the last 30\n",
        "days.\n",
        "⮚ Identify the video with the highest likes-to-views ratio.\n",
        "⮚ Find the correlation between the number of likes and the number of comments for\n",
        "the videos.\n",
        "⮚ Determine the most common day of the week for video uploads.\n",
        "⮚ Detect any outliers in the views count."
      ],
      "metadata": {
        "id": "khFqFJz8DiSL"
      }
    },
    {
      "cell_type": "code",
      "source": [
        "import pandas as pd\n",
        "from selenium import webdriver\n",
        "from selenium.webdriver.common.keys import Keys\n",
        "from selenium.webdriver.common.by import By\n",
        "from selenium.webdriver.chrome.service import Service\n",
        "from selenium.webdriver.chrome.options import Options\n",
        "from selenium.webdriver.support.ui import WebDriverWait\n",
        "from selenium.webdriver.support import expected_conditions as EC\n",
        "from bs4 import BeautifulSoup\n",
        "import time\n",
        "from datetime import datetime, timedelta\n",
        "from dateutil.relativedelta import relativedelta\n",
        "import re\n",
        "from lxml import etree"
      ],
      "metadata": {
        "id": "5lmN9UZBR-up"
      },
      "execution_count": null,
      "outputs": []
    },
    {
      "cell_type": "code",
      "source": [
        "import pandas as pd\n",
        "from datetime import datetime"
      ],
      "metadata": {
        "id": "gz-rfHNXSF50"
      },
      "execution_count": null,
      "outputs": []
    },
    {
      "cell_type": "code",
      "source": [
        "URL_P1 = 'https://www.youtube.com/@UnfoldDataScience/videos'"
      ],
      "metadata": {
        "id": "kyZ54WCVSK4T"
      },
      "execution_count": null,
      "outputs": []
    },
    {
      "cell_type": "code",
      "source": [
        "\n",
        "Driver_Path = r\"C:\\Users\\rabia\\OneDrive\\Desktop\\chromedriver-win64\\chromedriver.exe\""
      ],
      "metadata": {
        "id": "1mG2H82wTJ4V"
      },
      "execution_count": null,
      "outputs": []
    },
    {
      "cell_type": "markdown",
      "source": [],
      "metadata": {
        "id": "71uhSpCYNQkV"
      }
    },
    {
      "cell_type": "code",
      "source": [
        "import time\n",
        "from selenium.webdriver.common.keys import Keys\n",
        "\n",
        "def scroll_down(scrolls, halfpage=False, sleep=0):\n",
        "\n",
        "    while scrolls > 0:\n",
        "        # Check if scrolling by half a page or to the end of the page\n",
        "        if halfpage:\n",
        "            driver.find_element('tag name', 'body').send_keys(Keys.PAGE_DOWN)\n",
        "        else:\n",
        "            driver.find_element('tag name', 'body').send_keys(Keys.END)\n",
        "\n",
        "        scrolls -= 1\n",
        "\n",
        "        # Sleep for the specified duration (if provided)\n",
        "        if sleep > 0:\n",
        "            time.sleep(sleep)\n",
        "\n",
        "        # Print the number of scrolls left for tracking\n",
        "        print(\"Scrolls left: \", scrolls)\n"
      ],
      "metadata": {
        "id": "MRyM4yWJSbwS"
      },
      "execution_count": null,
      "outputs": []
    },
    {
      "cell_type": "code",
      "source": [
        "def GetVidData(URL):\n",
        "    driver.get(URL)\n",
        "    time.sleep(1)\n",
        "    #press the mute button\n",
        "    scroll_down(1, sleep=3, halfpage=True)\n",
        "\n",
        "    name = driver.find_elements(By.XPATH, '//*[@id=\"title\"]/h1/yt-formatted-string')\n",
        "    views = driver.find_elements(By.XPATH, '//*[@id=\"info\"]/span[1]')\n",
        "    likes = driver.find_elements(By.XPATH, '//*[@id=\"segmented-like-button\"]/ytd-toggle-button-renderer/yt-button-shape/button/div[2]/span')\n",
        "    date = driver.find_elements(By.XPATH, '//*[@id=\"info\"]/span[3]')\n",
        "    comments = driver.find_elements(By.XPATH, '//*[@id=\"count\"]/yt-formatted-string/span[1]')\n",
        "\n",
        "    return name, views, likes, date, comments"
      ],
      "metadata": {
        "id": "5wpc8I-oSsdn"
      },
      "execution_count": null,
      "outputs": []
    },
    {
      "cell_type": "code",
      "source": [
        "service = Service(Driver_Path)"
      ],
      "metadata": {
        "id": "gR5uB_zgS-lh",
        "colab": {
          "base_uri": "https://localhost:8080/",
          "height": 141
        },
        "outputId": "e79e90cd-1780-4fc6-94d8-545952d82adc"
      },
      "execution_count": null,
      "outputs": [
        {
          "output_type": "error",
          "ename": "NameError",
          "evalue": "name 'Driver_Path' is not defined",
          "traceback": [
            "\u001b[0;31m---------------------------------------------------------------------------\u001b[0m",
            "\u001b[0;31mNameError\u001b[0m                                 Traceback (most recent call last)",
            "\u001b[0;32m<ipython-input-7-7f334a79718c>\u001b[0m in \u001b[0;36m<cell line: 1>\u001b[0;34m()\u001b[0m\n\u001b[0;32m----> 1\u001b[0;31m \u001b[0mservice\u001b[0m \u001b[0;34m=\u001b[0m \u001b[0mService\u001b[0m\u001b[0;34m(\u001b[0m\u001b[0mDriver_Path\u001b[0m\u001b[0;34m)\u001b[0m\u001b[0;34m\u001b[0m\u001b[0;34m\u001b[0m\u001b[0m\n\u001b[0m",
            "\u001b[0;31mNameError\u001b[0m: name 'Driver_Path' is not defined"
          ]
        }
      ]
    },
    {
      "cell_type": "code",
      "source": [
        "URL_P1 = 'https://example.com'"
      ],
      "metadata": {
        "id": "wS7v7kXJS-n7"
      },
      "execution_count": null,
      "outputs": []
    },
    {
      "cell_type": "code",
      "source": [
        "driver.get(URL_P1)"
      ],
      "metadata": {
        "id": "G0lGXxT-S-rg",
        "colab": {
          "base_uri": "https://localhost:8080/",
          "height": 141
        },
        "outputId": "dd5adc3f-274c-426d-b2d5-b6353bef4323"
      },
      "execution_count": null,
      "outputs": [
        {
          "output_type": "error",
          "ename": "NameError",
          "evalue": "name 'driver' is not defined",
          "traceback": [
            "\u001b[0;31m---------------------------------------------------------------------------\u001b[0m",
            "\u001b[0;31mNameError\u001b[0m                                 Traceback (most recent call last)",
            "\u001b[0;32m<ipython-input-9-597b370f4e35>\u001b[0m in \u001b[0;36m<cell line: 1>\u001b[0;34m()\u001b[0m\n\u001b[0;32m----> 1\u001b[0;31m \u001b[0mdriver\u001b[0m\u001b[0;34m.\u001b[0m\u001b[0mget\u001b[0m\u001b[0;34m(\u001b[0m\u001b[0mURL_P1\u001b[0m\u001b[0;34m)\u001b[0m\u001b[0;34m\u001b[0m\u001b[0;34m\u001b[0m\u001b[0m\n\u001b[0m",
            "\u001b[0;31mNameError\u001b[0m: name 'driver' is not defined"
          ]
        }
      ]
    },
    {
      "cell_type": "code",
      "source": [
        "time.sleep(10)"
      ],
      "metadata": {
        "id": "wClPD6f2S-t-"
      },
      "execution_count": null,
      "outputs": []
    },
    {
      "cell_type": "code",
      "source": [
        "scroll_down(15, sleep=3, halfpage=False)"
      ],
      "metadata": {
        "id": "zzVfEaI0S-xR"
      },
      "execution_count": null,
      "outputs": []
    },
    {
      "cell_type": "code",
      "source": [
        "video_likes = []\n",
        "video_views = []\n",
        "video_dates = []\n",
        "video_names = []\n",
        "video_comments = []\n"
      ],
      "metadata": {
        "id": "fZfS2n4QS-y2"
      },
      "execution_count": null,
      "outputs": []
    },
    {
      "cell_type": "code",
      "source": [
        "video_link = driver.find_elements(By.XPATH, '//*[@id=\"video-title-link\"]')"
      ],
      "metadata": {
        "id": "T6iL4A3NS-2B"
      },
      "execution_count": null,
      "outputs": []
    },
    {
      "cell_type": "code",
      "source": [
        "video_links = [link.get_attribute('href') for link in video_link]"
      ],
      "metadata": {
        "id": "TZ4idSCqT35m"
      },
      "execution_count": null,
      "outputs": []
    },
    {
      "cell_type": "code",
      "source": [
        "for link in video_links[:10]:\n",
        "    # Call a function to extract video data from each link\n",
        "    name, views, likes, date, comments = GetVidData(link)\n",
        "\n",
        "    # Append extracted data to respective lists\n",
        "    video_names.append(name[0].text)\n",
        "    video_views.append(views[0].text)\n",
        "    video_likes.append(likes[0].text)\n",
        "    video_dates.append(date[0].text)\n",
        "    video_comments.append(comments[0].text)"
      ],
      "metadata": {
        "id": "ZCQ76XhnT4G-"
      },
      "execution_count": null,
      "outputs": []
    },
    {
      "cell_type": "code",
      "source": [
        "driver.close()"
      ],
      "metadata": {
        "id": "gQ9Y9VjxUBtM"
      },
      "execution_count": null,
      "outputs": []
    },
    {
      "cell_type": "code",
      "source": [
        "data = {\n",
        "    'Video Name': video_names,\n",
        "    'No.Of Views': video_views,\n",
        "    'Date Published': video_dates,\n",
        "    'No.Of Likes': video_likes,\n",
        "    'No.Of Comments': video_comments\n",
        "}"
      ],
      "metadata": {
        "id": "96Vx6bLUUBvL"
      },
      "execution_count": null,
      "outputs": []
    },
    {
      "cell_type": "code",
      "source": [
        "data = pd.DataFrame(data).to_excel('V11.xlsx', index=False)"
      ],
      "metadata": {
        "id": "dIE0DGcfUU3U"
      },
      "execution_count": null,
      "outputs": []
    },
    {
      "cell_type": "code",
      "source": [
        "\n",
        "df = pd.read_excel('V11.xlsx')\n",
        "df"
      ],
      "metadata": {
        "id": "ntVQSViTUU5o"
      },
      "execution_count": null,
      "outputs": []
    },
    {
      "cell_type": "code",
      "source": [
        "from datetime import datetime\n",
        "from dateutil.relativedelta import relativedelta\n",
        "\n",
        "def GetDate(date):\n",
        "\n",
        "    date = date.strip().split(' ')\n",
        "    amount, type_, _ = date\n",
        "\n",
        "\n",
        "    today = datetime.today()\n",
        "\n",
        "\n",
        "    if type_ == 'days' or type_ == 'day':\n",
        "\n",
        "        date = today - relativedelta(days=int(amount))\n",
        "    elif type_ == 'weeks' or type_ == 'week':\n",
        "\n",
        "        date = today - relativedelta(weeks=int(amount))\n",
        "    elif type_ == 'months' or type_ == 'month':\n",
        "\n",
        "        date = today - relativedelta(months=int(amount))\n",
        "    elif type_ == 'years' or type_ == 'year':\n",
        "\n",
        "        date = today - relativedelta(years=int(amount))\n",
        "\n",
        "\n",
        "    return date.date()\n",
        "\n"
      ],
      "metadata": {
        "id": "xKOuM5MLUU9Q"
      },
      "execution_count": null,
      "outputs": []
    },
    {
      "cell_type": "code",
      "source": [
        "df['Date Published'] = df['Date Published'].apply(GetDate)"
      ],
      "metadata": {
        "id": "cJZouAi3Utvi"
      },
      "execution_count": null,
      "outputs": []
    },
    {
      "cell_type": "code",
      "source": [
        "df['Date Published']\n"
      ],
      "metadata": {
        "id": "KMV5fv_mUtzE"
      },
      "execution_count": null,
      "outputs": []
    },
    {
      "cell_type": "code",
      "source": [
        "df['No.Of Views']\n",
        "def convert_views(views):\n",
        "    if views <= 6.8:\n",
        "        return int(views * 1000)\n",
        "    else:\n",
        "        return int(views)\n",
        "df['No.Of Views (Numeric)'] = df['No.Of Views'].apply(convert_views)\n",
        "\n"
      ],
      "metadata": {
        "id": "5axwyMdVUuAR"
      },
      "execution_count": null,
      "outputs": []
    },
    {
      "cell_type": "code",
      "source": [
        "df['No.Of Views (Numeric)']"
      ],
      "metadata": {
        "id": "BGvBhlxoUByn"
      },
      "execution_count": null,
      "outputs": []
    },
    {
      "cell_type": "code",
      "source": [
        "def avgViews30days(df):\n",
        "    df['Date Published'] = pd.to_datetime(df['Date Published'])\n",
        "    currDate = datetime.now()\n",
        "    df['Days Ago'] = (currDate - df['Date Published']).dt.days\n",
        "    withInMonth = df[df['Days Ago'] <= 30]\n",
        "    viewsWithInMonth = withInMonth['No.Of Views (Numeric)'].sum()\n",
        "    vidCount = withInMonth.shape[0]\n",
        "    avgViews = viewsWithInMonth / vidCount\n",
        "    return avgViews\n"
      ],
      "metadata": {
        "id": "OLw0y_x9VXGq"
      },
      "execution_count": null,
      "outputs": []
    },
    {
      "cell_type": "code",
      "source": [
        "average_views = avgViews30days(df)"
      ],
      "metadata": {
        "id": "1lh7m2DnVXJK"
      },
      "execution_count": null,
      "outputs": []
    },
    {
      "cell_type": "code",
      "source": [
        "print('Average Views Count per Video in the Last 30 Days:', average_views)"
      ],
      "metadata": {
        "id": "5c2VC9oVVXNI"
      },
      "execution_count": null,
      "outputs": []
    },
    {
      "cell_type": "code",
      "source": [
        "def findCorr(dataframe, col1, col2):\n",
        "    correlation = dataframe[col1].corr(dataframe[col2])\n",
        "    return correlation"
      ],
      "metadata": {
        "id": "FHk89ztdVxwu"
      },
      "execution_count": null,
      "outputs": []
    },
    {
      "cell_type": "code",
      "source": [
        "correlation = findCorr(df, 'No.Of Likes', 'No.Of Comments')\n",
        "\n",
        "print(\"Correlation between Likes and Comments: \",correlation)\n"
      ],
      "metadata": {
        "id": "Owzhj_ZjVxzX"
      },
      "execution_count": null,
      "outputs": []
    },
    {
      "cell_type": "code",
      "source": [
        "df['Date Published'] = pd.to_datetime(df['Date Published'])\n",
        "df['Day of Week'] = df['Date Published'].dt.day_name()\n",
        "most_common_day = df['Day of Week'].mode()[0]\n",
        "print(f'Most Common Day for Video Uploads: {most_common_day}')"
      ],
      "metadata": {
        "id": "Ne70z4cdVx1_"
      },
      "execution_count": null,
      "outputs": []
    },
    {
      "cell_type": "code",
      "source": [
        "def weekDay(dataframe, col):\n",
        "    #date col->date time\n",
        "    dataframe[col] = pd.to_datetime(dataframe[col])\n",
        "    # from date column fetch weeek\n",
        "    dataframe['dayOfWeek'] = dataframe[col].dt.day_name()\n",
        "    #common day\n",
        "    #the most common day will be sorted obv in top order\n",
        "    #fetch that\n",
        "    commonWeekDat = dataframe['dayOfWeek'].mode()[0]\n",
        "\n",
        "    return commonWeekDat\n",
        "\n",
        "\n",
        "# calling funct\n",
        "commonWeekDat = weekDay(df, 'Date Published')\n",
        "\n",
        "print('Most Common Day for Video Uploads:',commonWeekDat)"
      ],
      "metadata": {
        "id": "nSrBJMk3WEXo"
      },
      "execution_count": null,
      "outputs": []
    },
    {
      "cell_type": "code",
      "source": [
        "def killOutliers(df, colName):\n",
        "    firstQuartile = df[colName].quantile(0.25)\n",
        "    thirdQuartile = df[colName].quantile(0.75)\n",
        "    InterQuartileRange = thirdQuartile - firstQuartile\n",
        "    LB = firstQuartile - 1.5 * InterQuartileRange\n",
        "    UP = thirdQuartile + 1.5 * InterQuartileRange\n",
        "    outliers = df[(df[colName] < LB) | (df[colName] > UP)]\n",
        "\n",
        "    return outliers"
      ],
      "metadata": {
        "id": "GNfgPF0vWJoM"
      },
      "execution_count": null,
      "outputs": []
    },
    {
      "cell_type": "code",
      "source": [
        "outliers = killOutliers(df, 'No.Of Views')"
      ],
      "metadata": {
        "id": "0RHRzMLqWJrq"
      },
      "execution_count": null,
      "outputs": []
    },
    {
      "cell_type": "code",
      "source": [
        "print('Outliers in Views Count:')\n",
        "print(outliers)"
      ],
      "metadata": {
        "id": "Gzty0SyTWEbC"
      },
      "execution_count": null,
      "outputs": []
    }
  ]
}